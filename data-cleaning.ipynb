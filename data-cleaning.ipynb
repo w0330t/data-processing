{
 "cells": [
  {
   "cell_type": "code",
   "execution_count": null,
   "metadata": {},
   "outputs": [],
   "source": [
    "import pandas as pd\n",
    "import numpy as np"
   ]
  },
  {
   "attachments": {},
   "cell_type": "markdown",
   "metadata": {},
   "source": [
    "读数据"
   ]
  },
  {
   "cell_type": "code",
   "execution_count": null,
   "metadata": {},
   "outputs": [],
   "source": [
    "df = pd.read_csv('data/BTC_USD.csv', names=['timestamp', 'open', 'high', 'low', 'close', 'volume'])"
   ]
  },
  {
   "attachments": {},
   "cell_type": "markdown",
   "metadata": {},
   "source": [
    "计算缺失的序列量"
   ]
  },
  {
   "cell_type": "code",
   "execution_count": null,
   "metadata": {},
   "outputs": [],
   "source": [
    "# UNIX Timestamp 的具体间隔\n",
    "second = 60 * 1000\n",
    "hour = second * 60"
   ]
  },
  {
   "cell_type": "code",
   "execution_count": null,
   "metadata": {},
   "outputs": [],
   "source": [
    "# 计算缺失的时间并存到miss变量中\n",
    "t = df['timestamp'][0]\n",
    "miss = []\n",
    "for i in df['timestamp']:\n",
    "    while i != t:\n",
    "        miss.append(t)\n",
    "        t += hour\n",
    "    t += hour"
   ]
  },
  {
   "cell_type": "code",
   "execution_count": null,
   "metadata": {},
   "outputs": [],
   "source": [
    "len(miss)"
   ]
  },
  {
   "cell_type": "code",
   "execution_count": null,
   "metadata": {},
   "outputs": [],
   "source": [
    "# 缺失百分比\n",
    "len(miss) / (len(df) + len(miss)) * 100"
   ]
  },
  {
   "cell_type": "code",
   "execution_count": null,
   "metadata": {},
   "outputs": [],
   "source": [
    "# 打印出缺失的时间段\n",
    "for i, m in enumerate(miss):\n",
    "    # print(m)\n",
    "    if i == 0:\n",
    "        print(f'start: {pendulum.from_timestamp(miss[i]/1000).to_datetime_string()}')\n",
    "    elif i == len(miss) - 1:\n",
    "        print(f'end: {pendulum.from_timestamp(miss[i]/1000).to_datetime_string()}')\n",
    "    elif miss[i-1] == m - 60 * 1000 and miss[i+1] != m + 60 * 1000:\n",
    "        print(f'end: {pendulum.from_timestamp(miss[i]/1000).to_datetime_string()}')\n",
    "    elif miss[i-1] != m - 60 * 1000 and miss[i+1] == m + 60 * 1000:\n",
    "        print(f'start: {pendulum.from_timestamp(miss[i]/1000).to_datetime_string()}')"
   ]
  },
  {
   "attachments": {},
   "cell_type": "markdown",
   "metadata": {},
   "source": [
    "添加pct change"
   ]
  },
  {
   "cell_type": "code",
   "execution_count": null,
   "metadata": {},
   "outputs": [],
   "source": [
    "# 添加自然时间增加辨识度\n",
    "df['datetime'] = pd.to_datetime(df['timestamp'], unit='ms')\n",
    "# 添加当前行与上行的收盘价的变化\n",
    "df['pct_change'] = df['close'].pct_change()\n",
    "# 做一个偏移作为预测标签\n",
    "df['label_1'] = df['pct_change'].shift(-1)\n",
    "# 定义一列以涨跌为预测的标签\n",
    "df['label_2'] = np.where(df['label_1'] >= 0, 1, 0)\n",
    "# 删除第一行和最后一行\n",
    "df = df.iloc[1:-1]"
   ]
  },
  {
   "cell_type": "code",
   "execution_count": null,
   "metadata": {},
   "outputs": [],
   "source": [
    "df"
   ]
  },
  {
   "cell_type": "code",
   "execution_count": null,
   "metadata": {},
   "outputs": [],
   "source": [
    "# 查看1小时都没啥变动的值\n",
    "len(df[df['pct_change']==0])"
   ]
  },
  {
   "attachments": {},
   "cell_type": "markdown",
   "metadata": {},
   "source": [
    "收益分布"
   ]
  },
  {
   "cell_type": "code",
   "execution_count": null,
   "metadata": {},
   "outputs": [],
   "source": [
    "# 收益呈现标准差分布\n",
    "df['pct_change'].plot.hist(figsize=(16, 4), bins=100)"
   ]
  },
  {
   "cell_type": "code",
   "execution_count": null,
   "metadata": {},
   "outputs": [],
   "source": [
    "len(df.loc[df['pct_change'] > 0]) / len(df) * 100"
   ]
  },
  {
   "cell_type": "code",
   "execution_count": null,
   "metadata": {},
   "outputs": [],
   "source": [
    "len(df.loc[df['pct_change'] == 0]) / len(df) * 100"
   ]
  },
  {
   "cell_type": "code",
   "execution_count": null,
   "metadata": {},
   "outputs": [],
   "source": [
    "len(df.loc[df['pct_change'] < 0]) / len(df) * 100"
   ]
  },
  {
   "attachments": {},
   "cell_type": "markdown",
   "metadata": {},
   "source": [
    "删除不需要的列"
   ]
  },
  {
   "cell_type": "code",
   "execution_count": null,
   "metadata": {},
   "outputs": [],
   "source": [
    "df.drop(columns=['timestamp', 'datetime', 'pct_change'], inplace=True)"
   ]
  },
  {
   "attachments": {},
   "cell_type": "markdown",
   "metadata": {},
   "source": [
    "分割训练数据和测试数据"
   ]
  },
  {
   "cell_type": "code",
   "execution_count": null,
   "metadata": {},
   "outputs": [],
   "source": [
    "# 定义训练数据占比\n",
    "ratio_training_data = 0.9\n",
    "# 切割训练数据\n",
    "l = int(len(df) * ratio_training_data)\n",
    "training_data = df.head(l)\n",
    "test_data = df.tail(len(df) - l)"
   ]
  },
  {
   "cell_type": "code",
   "execution_count": null,
   "metadata": {},
   "outputs": [],
   "source": [
    "len(test_data)"
   ]
  },
  {
   "cell_type": "code",
   "execution_count": null,
   "metadata": {},
   "outputs": [],
   "source": [
    "training_data.to_csv('data/out_training_data.csv')\n",
    "test_data.to_csv('data/out_test_data.csv')"
   ]
  }
 ],
 "metadata": {
  "kernelspec": {
   "display_name": "dl",
   "language": "python",
   "name": "python3"
  },
  "language_info": {
   "codemirror_mode": {
    "name": "ipython",
    "version": 3
   },
   "file_extension": ".py",
   "mimetype": "text/x-python",
   "name": "python",
   "nbconvert_exporter": "python",
   "pygments_lexer": "ipython3",
   "version": "3.10.9"
  },
  "orig_nbformat": 4,
  "vscode": {
   "interpreter": {
    "hash": "3712396588e2ebd809439df4a449bfc974081027df7accf4c030d44c834bbac4"
   }
  }
 },
 "nbformat": 4,
 "nbformat_minor": 2
}
