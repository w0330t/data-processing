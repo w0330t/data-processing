{
 "cells": [
  {
   "cell_type": "code",
   "execution_count": null,
   "metadata": {},
   "outputs": [],
   "source": [
    "import pandas as pd\n",
    "import numpy as np\n",
    "import common\n",
    "\n",
    "from pyecharts.charts import Grid, Kline, Line, Bar\n",
    "from pyecharts import options as opts\n",
    "from pyecharts.globals import ThemeType\n",
    "\n",
    "import talib.abstract as ta"
   ]
  },
  {
   "attachments": {},
   "cell_type": "markdown",
   "metadata": {},
   "source": [
    "获取数据"
   ]
  },
  {
   "cell_type": "code",
   "execution_count": null,
   "metadata": {},
   "outputs": [],
   "source": [
    "file = '../freqtrade/user_data/data/binance/futures/ETH_USDT_USDT-8h-futures.json'"
   ]
  },
  {
   "cell_type": "code",
   "execution_count": null,
   "metadata": {},
   "outputs": [],
   "source": [
    "df = common.read_kline_data(file)"
   ]
  },
  {
   "attachments": {},
   "cell_type": "markdown",
   "metadata": {},
   "source": [
    "添加MA和EMA"
   ]
  },
  {
   "cell_type": "code",
   "execution_count": null,
   "metadata": {},
   "outputs": [],
   "source": [
    "df['ma20'] = ta.MA(df, timeperiod=20)\n",
    "df['ma60'] = ta.MA(df, timeperiod=60)\n",
    "df['ma120'] = ta.MA(df, timeperiod=120)\n",
    "\n",
    "df['ema20'] = ta.EMA(df, timeperiod=20)\n",
    "df['ema60'] = ta.EMA(df, timeperiod=60)\n",
    "df['ema120'] = ta.EMA(df, timeperiod=120)"
   ]
  },
  {
   "attachments": {},
   "cell_type": "markdown",
   "metadata": {},
   "source": [
    "计算密集程度"
   ]
  },
  {
   "cell_type": "code",
   "execution_count": null,
   "metadata": {},
   "outputs": [],
   "source": [
    "df['intensity_ma'] = (abs(df['ma20'] - df['ma60']) + abs(df['ma60'] - df['ma120']) + abs(df['ma120'] - df['ma20'])) /\\\n",
    "                    ((df['ma20'] + df['ma60'] + df['ma120']) / 3)\n",
    "df.tail()"
   ]
  },
  {
   "cell_type": "code",
   "execution_count": null,
   "metadata": {},
   "outputs": [],
   "source": [
    "df = df.dropna()"
   ]
  },
  {
   "attachments": {},
   "cell_type": "markdown",
   "metadata": {},
   "source": [
    "### 构建图表"
   ]
  },
  {
   "attachments": {},
   "cell_type": "markdown",
   "metadata": {},
   "source": [
    "初始化K线数据"
   ]
  },
  {
   "cell_type": "code",
   "execution_count": null,
   "metadata": {},
   "outputs": [],
   "source": [
    "data = []\n",
    "for _, row in df.iterrows():\n",
    "    data.append([\n",
    "        row[\"open\"], \n",
    "        row[\"close\"], \n",
    "        row[\"low\"], \n",
    "        row[\"high\"], \n",
    "    ])"
   ]
  },
  {
   "attachments": {},
   "cell_type": "markdown",
   "metadata": {},
   "source": [
    "开始构建K线"
   ]
  },
  {
   "cell_type": "code",
   "execution_count": null,
   "metadata": {},
   "outputs": [],
   "source": [
    "kline = (\n",
    "    Kline(init_opts=opts.InitOpts(theme=ThemeType.CHALK))\n",
    "    .add_xaxis(df[\"datetime\"].tolist())\n",
    "    .add_yaxis(\"K线图\", data)\n",
    "    .set_global_opts(\n",
    "        xaxis_opts=opts.AxisOpts(is_scale=True),\n",
    "        yaxis_opts=opts.AxisOpts(\n",
    "            is_scale=True,\n",
    "            # 对数坐标\n",
    "            type_=\"log\",\n",
    "            min_=\"dataMin\",\n",
    "            max_=\"dataMax\",\n",
    "            ),\n",
    "        title_opts=opts.TitleOpts(title=\"K线图\"),\n",
    "\n",
    "        datazoom_opts=[\n",
    "            opts.DataZoomOpts(\n",
    "                is_show=True,\n",
    "                xaxis_index=[0, 1],\n",
    "                type_=\"inside\",\n",
    "                pos_top=\"85%\",\n",
    "                range_start=98,\n",
    "                range_end=100,\n",
    "            ),\n",
    "        ],\n",
    "        # 十字线坐标\n",
    "        tooltip_opts=opts.TooltipOpts(\n",
    "            trigger=\"axis\",\n",
    "            axis_pointer_type=\"cross\",\n",
    "            # background_color=\"rgba(245, 245, 245, 0.8)\",\n",
    "            border_width=1,\n",
    "            border_color=\"#ccc\",\n",
    "            textstyle_opts=opts.TextStyleOpts(color=\"#000\"),\n",
    "        ),\n",
    "        # 上下十字线触发\n",
    "        axispointer_opts=opts.AxisPointerOpts(\n",
    "            is_show=True,\n",
    "            link=[{\"xAxisIndex\": \"all\"}],\n",
    "            label=opts.LabelOpts(background_color=\"#777\"),\n",
    "        ),      \n",
    "    )\n",
    ")"
   ]
  },
  {
   "attachments": {},
   "cell_type": "markdown",
   "metadata": {},
   "source": [
    "构建K线的指标MA和EMA"
   ]
  },
  {
   "cell_type": "code",
   "execution_count": null,
   "metadata": {},
   "outputs": [],
   "source": [
    "line = (\n",
    "    Line()\n",
    "    .add_xaxis(xaxis_data=df[\"datetime\"].tolist())\n",
    "    .add_yaxis(\n",
    "        series_name=\"MA20\",\n",
    "        y_axis=df['ma20'],\n",
    "        is_smooth=True,\n",
    "        is_hover_animation=False,\n",
    "        linestyle_opts=opts.LineStyleOpts(width=1, opacity=0.8),\n",
    "        label_opts=opts.LabelOpts(is_show=False),\n",
    "        is_symbol_show=False,\n",
    "    )\n",
    "    .add_yaxis(\n",
    "        series_name=\"MA60\",\n",
    "        y_axis=df['ma60'],\n",
    "        is_smooth=True,\n",
    "        is_hover_animation=False,\n",
    "        linestyle_opts=opts.LineStyleOpts(width=1, opacity=0.8),\n",
    "        label_opts=opts.LabelOpts(is_show=False),\n",
    "        is_symbol_show=False,\n",
    "    )\n",
    "    .add_yaxis(\n",
    "        series_name=\"MA120\",\n",
    "        y_axis=df['ma120'],\n",
    "        is_smooth=True,\n",
    "        is_hover_animation=False,\n",
    "        linestyle_opts=opts.LineStyleOpts(width=1, opacity=0.8),\n",
    "        label_opts=opts.LabelOpts(is_show=False),\n",
    "        is_symbol_show=False,\n",
    "    )\n",
    "    .add_yaxis(\n",
    "        series_name=\"EMA20\",\n",
    "        y_axis=df['ema20'],\n",
    "        is_smooth=True,\n",
    "        is_hover_animation=False,\n",
    "        linestyle_opts=opts.LineStyleOpts(width=1, opacity=0.8),\n",
    "        label_opts=opts.LabelOpts(is_show=False),\n",
    "        is_symbol_show=False,\n",
    "    )\n",
    "    .add_yaxis(\n",
    "        series_name=\"EMA60\",\n",
    "        y_axis=df['ema60'],\n",
    "        is_smooth=True,\n",
    "        is_hover_animation=False,\n",
    "        linestyle_opts=opts.LineStyleOpts(width=1, opacity=0.8),\n",
    "        label_opts=opts.LabelOpts(is_show=False),\n",
    "        is_symbol_show=False,\n",
    "    )\n",
    "    .add_yaxis(\n",
    "        series_name=\"EMA120\",\n",
    "        y_axis=df['ema120'],\n",
    "        is_smooth=True,\n",
    "        is_hover_animation=False,\n",
    "        linestyle_opts=opts.LineStyleOpts(width=1, opacity=0.8),\n",
    "        label_opts=opts.LabelOpts(is_show=False),\n",
    "        is_symbol_show=False,\n",
    "    )\n",
    "    .set_global_opts(\n",
    "        xaxis_opts=opts.AxisOpts(\n",
    "            type_=\"category\",\n",
    "            is_scale=True,\n",
    "            grid_index=1,\n",
    "            boundary_gap=False,\n",
    "            axisline_opts=opts.AxisLineOpts(is_on_zero=False),\n",
    "            axistick_opts=opts.AxisTickOpts(is_show=False),\n",
    "            splitline_opts=opts.SplitLineOpts(is_show=False),\n",
    "            axislabel_opts=opts.LabelOpts(is_show=False),\n",
    "            split_number=20,\n",
    "            min_=\"dataMin\",\n",
    "            max_=\"dataMax\",\n",
    "        ),\n",
    "        yaxis_opts=opts.AxisOpts(\n",
    "            grid_index=1,\n",
    "            is_scale=True,\n",
    "            split_number=2,\n",
    "            # axislabel_opts=opts.LabelOpts(is_show=False),\n",
    "            # axisline_opts=opts.AxisLineOpts(is_show=False),\n",
    "            # axistick_opts=opts.AxisTickOpts(is_show=False),\n",
    "            # splitline_opts=opts.SplitLineOpts(is_show=False),\n",
    "        ),\n",
    "        legend_opts=opts.LegendOpts(is_show=False),\n",
    "    )\n",
    ")"
   ]
  },
  {
   "attachments": {},
   "cell_type": "markdown",
   "metadata": {},
   "source": [
    "成交量"
   ]
  },
  {
   "cell_type": "code",
   "execution_count": null,
   "metadata": {},
   "outputs": [],
   "source": [
    "bar = (\n",
    "    Bar()\n",
    "    .add_xaxis(xaxis_data=df[\"datetime\"].tolist())\n",
    "    .add_yaxis(\n",
    "        series_name=\"volume\",\n",
    "        y_axis=df[\"volume\"].tolist(),\n",
    "        xaxis_index=1,\n",
    "        yaxis_index=1,\n",
    "        label_opts=opts.LabelOpts(is_show=False),\n",
    "    )\n",
    "    .set_global_opts(\n",
    "        xaxis_opts=opts.AxisOpts(\n",
    "            type_=\"category\",\n",
    "            is_scale=True,\n",
    "            grid_index=1,\n",
    "            boundary_gap=False,\n",
    "            axisline_opts=opts.AxisLineOpts(is_on_zero=False),\n",
    "            axistick_opts=opts.AxisTickOpts(is_show=False),\n",
    "            splitline_opts=opts.SplitLineOpts(is_show=False),\n",
    "            axislabel_opts=opts.LabelOpts(is_show=False),\n",
    "            split_number=20,\n",
    "            min_=\"dataMin\",\n",
    "            max_=\"dataMax\",\n",
    "        ),\n",
    "        yaxis_opts=opts.AxisOpts(\n",
    "            grid_index=1,\n",
    "            is_scale=True,\n",
    "            split_number=2,\n",
    "            axislabel_opts=opts.LabelOpts(is_show=False),\n",
    "            axisline_opts=opts.AxisLineOpts(is_show=False),\n",
    "            axistick_opts=opts.AxisTickOpts(is_show=False),\n",
    "            splitline_opts=opts.SplitLineOpts(is_show=False),\n",
    "        ),\n",
    "        legend_opts=opts.LegendOpts(is_show=False),\n",
    "    )\n",
    ")"
   ]
  },
  {
   "attachments": {},
   "cell_type": "markdown",
   "metadata": {},
   "source": [
    "合并"
   ]
  },
  {
   "cell_type": "code",
   "execution_count": null,
   "metadata": {},
   "outputs": [],
   "source": [
    "# Kline And Line\n",
    "overlap_kline_line = kline.overlap(line)"
   ]
  },
  {
   "cell_type": "code",
   "execution_count": null,
   "metadata": {},
   "outputs": [],
   "source": [
    "grid_chart = Grid(init_opts=opts.InitOpts(width='100%', height='600px'))"
   ]
  },
  {
   "cell_type": "code",
   "execution_count": null,
   "metadata": {},
   "outputs": [],
   "source": [
    "grid_chart.add(\n",
    "    overlap_kline_line,\n",
    "    grid_opts=opts.GridOpts(pos_left=\"2%\", pos_right=\"5%\", height=\"60%\"),\n",
    ")\n",
    "\n",
    "grid_chart.add(\n",
    "    bar,\n",
    "    grid_opts=opts.GridOpts(\n",
    "        pos_left=\"2%\", pos_right=\"2%\", pos_top=\"78%\", height=\"16%\"\n",
    "    ),\n",
    ")"
   ]
  },
  {
   "cell_type": "code",
   "execution_count": null,
   "metadata": {},
   "outputs": [],
   "source": [
    "grid_chart.render_notebook()"
   ]
  },
  {
   "cell_type": "code",
   "execution_count": null,
   "metadata": {},
   "outputs": [],
   "source": [
    "s_r = df[df['intensity_ma'] < 0.02]"
   ]
  },
  {
   "cell_type": "code",
   "execution_count": null,
   "metadata": {},
   "outputs": [],
   "source": [
    "s_r"
   ]
  },
  {
   "cell_type": "code",
   "execution_count": null,
   "metadata": {},
   "outputs": [],
   "source": []
  }
 ],
 "metadata": {
  "kernelspec": {
   "display_name": "dl",
   "language": "python",
   "name": "python3"
  },
  "language_info": {
   "codemirror_mode": {
    "name": "ipython",
    "version": 3
   },
   "file_extension": ".py",
   "mimetype": "text/x-python",
   "name": "python",
   "nbconvert_exporter": "python",
   "pygments_lexer": "ipython3",
   "version": "3.10.10"
  },
  "orig_nbformat": 4
 },
 "nbformat": 4,
 "nbformat_minor": 2
}
