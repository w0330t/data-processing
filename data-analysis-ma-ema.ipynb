{
 "cells": [
  {
   "cell_type": "code",
   "execution_count": null,
   "metadata": {},
   "outputs": [],
   "source": [
    "import pandas as pd\n",
    "import numpy as np\n",
    "import common\n",
    "\n",
    "from pyecharts.charts import Grid, Kline, Line, Bar\n",
    "from pyecharts import options as opts\n",
    "from pyecharts.globals import ThemeType"
   ]
  },
  {
   "cell_type": "code",
   "execution_count": null,
   "metadata": {},
   "outputs": [],
   "source": [
    "label_period_candles = 24 * 2"
   ]
  },
  {
   "cell_type": "code",
   "execution_count": null,
   "metadata": {},
   "outputs": [],
   "source": [
    "file = '../freqtrade/user_data/data/binance/futures/ETH_USDT_USDT-1h-futures.json'"
   ]
  },
  {
   "cell_type": "code",
   "execution_count": null,
   "metadata": {},
   "outputs": [],
   "source": [
    "df = common.read_kline_data(file)"
   ]
  },
  {
   "cell_type": "code",
   "execution_count": null,
   "metadata": {},
   "outputs": [],
   "source": [
    "df['target'] = df[\"close\"].shift(-label_period_candles).rolling(label_period_candles).mean() / df[\"close\"] - 1"
   ]
  },
  {
   "cell_type": "code",
   "execution_count": null,
   "metadata": {},
   "outputs": [],
   "source": [
    "df = df.iloc[-10000:].dropna()"
   ]
  },
  {
   "cell_type": "code",
   "execution_count": null,
   "metadata": {},
   "outputs": [],
   "source": [
    "data = []\n",
    "for _, row in df.iterrows():\n",
    "    data.append([\n",
    "        row[\"open\"], \n",
    "        row[\"close\"], \n",
    "        row[\"low\"], \n",
    "        row[\"high\"], \n",
    "    ])"
   ]
  },
  {
   "cell_type": "code",
   "execution_count": null,
   "metadata": {},
   "outputs": [],
   "source": [
    "kline = (\n",
    "    Kline(init_opts=opts.InitOpts(theme=ThemeType.CHALK))\n",
    "    .add_xaxis(df[\"datetime\"].tolist())\n",
    "    .add_yaxis(\"K线图\", data)\n",
    "    .set_global_opts(\n",
    "        xaxis_opts=opts.AxisOpts(is_scale=True),\n",
    "        yaxis_opts=opts.AxisOpts(\n",
    "            is_scale=True,\n",
    "            # 对数坐标\n",
    "            type_=\"log\",\n",
    "            min_=\"dataMin\",\n",
    "            max_=\"dataMax\",\n",
    "            ),\n",
    "        title_opts=opts.TitleOpts(title=\"K线图\"),\n",
    "\n",
    "        datazoom_opts=[\n",
    "            opts.DataZoomOpts(\n",
    "                is_show=True,\n",
    "                xaxis_index=[0, 1],\n",
    "                type_=\"inside\",\n",
    "                pos_top=\"85%\",\n",
    "                range_start=98,\n",
    "                range_end=100,\n",
    "            ),\n",
    "        ],\n",
    "        # 十字线坐标\n",
    "        tooltip_opts=opts.TooltipOpts(\n",
    "            trigger=\"axis\",\n",
    "            axis_pointer_type=\"cross\",\n",
    "            # background_color=\"rgba(245, 245, 245, 0.8)\",\n",
    "            border_width=1,\n",
    "            border_color=\"#ccc\",\n",
    "            textstyle_opts=opts.TextStyleOpts(color=\"#000\"),\n",
    "        ),\n",
    "        # 上下十字线触发\n",
    "        axispointer_opts=opts.AxisPointerOpts(\n",
    "            is_show=True,\n",
    "            link=[{\"xAxisIndex\": \"all\"}],\n",
    "            label=opts.LabelOpts(background_color=\"#777\"),\n",
    "        ),      \n",
    "    )\n",
    ")"
   ]
  },
  {
   "cell_type": "code",
   "execution_count": null,
   "metadata": {},
   "outputs": [],
   "source": [
    "line = (\n",
    "    Line()\n",
    "    .add_xaxis(xaxis_data=df[\"datetime\"].tolist())\n",
    "    .add_yaxis(\n",
    "        series_name=\"target\",\n",
    "        y_axis=df[\"target\"].tolist(),\n",
    "        xaxis_index=1,\n",
    "        yaxis_index=1,\n",
    "        label_opts=opts.LabelOpts(is_show=False),\n",
    "    )\n",
    "    .set_global_opts(\n",
    "        xaxis_opts=opts.AxisOpts(\n",
    "            type_=\"category\",\n",
    "            is_scale=True,\n",
    "            grid_index=1,\n",
    "            boundary_gap=False,\n",
    "            axisline_opts=opts.AxisLineOpts(is_on_zero=False),\n",
    "            axistick_opts=opts.AxisTickOpts(is_show=False),\n",
    "            splitline_opts=opts.SplitLineOpts(is_show=False),\n",
    "            axislabel_opts=opts.LabelOpts(is_show=False),\n",
    "            split_number=20,\n",
    "            min_=\"dataMin\",\n",
    "            max_=\"dataMax\",\n",
    "        ),\n",
    "        yaxis_opts=opts.AxisOpts(\n",
    "            grid_index=1,\n",
    "            is_scale=True,\n",
    "            split_number=2,\n",
    "            # axislabel_opts=opts.LabelOpts(is_show=False),\n",
    "            # axisline_opts=opts.AxisLineOpts(is_show=False),\n",
    "            # axistick_opts=opts.AxisTickOpts(is_show=False),\n",
    "            # splitline_opts=opts.SplitLineOpts(is_show=False),\n",
    "        ),\n",
    "        legend_opts=opts.LegendOpts(is_show=False),\n",
    "    )\n",
    ")"
   ]
  },
  {
   "cell_type": "code",
   "execution_count": null,
   "metadata": {},
   "outputs": [],
   "source": [
    "bar = (\n",
    "    Bar()\n",
    "    .add_xaxis(xaxis_data=df[\"datetime\"].tolist())\n",
    "    .add_yaxis(\n",
    "        series_name=\"target\",\n",
    "        y_axis=df[\"target\"].tolist(),\n",
    "        xaxis_index=1,\n",
    "        yaxis_index=1,\n",
    "        label_opts=opts.LabelOpts(is_show=False),\n",
    "    )\n",
    "    .set_global_opts(\n",
    "        xaxis_opts=opts.AxisOpts(\n",
    "            type_=\"category\",\n",
    "            is_scale=True,\n",
    "            grid_index=1,\n",
    "            boundary_gap=False,\n",
    "            axisline_opts=opts.AxisLineOpts(is_on_zero=False),\n",
    "            axistick_opts=opts.AxisTickOpts(is_show=False),\n",
    "            splitline_opts=opts.SplitLineOpts(is_show=False),\n",
    "            axislabel_opts=opts.LabelOpts(is_show=False),\n",
    "            split_number=20,\n",
    "            min_=\"dataMin\",\n",
    "            max_=\"dataMax\",\n",
    "        ),\n",
    "        yaxis_opts=opts.AxisOpts(\n",
    "            grid_index=1,\n",
    "            is_scale=True,\n",
    "            split_number=2,\n",
    "            axislabel_opts=opts.LabelOpts(is_show=False),\n",
    "            axisline_opts=opts.AxisLineOpts(is_show=False),\n",
    "            axistick_opts=opts.AxisTickOpts(is_show=False),\n",
    "            splitline_opts=opts.SplitLineOpts(is_show=False),\n",
    "        ),\n",
    "        legend_opts=opts.LegendOpts(is_show=False),\n",
    "    )\n",
    ")"
   ]
  },
  {
   "cell_type": "code",
   "execution_count": null,
   "metadata": {},
   "outputs": [],
   "source": [
    "grid_chart = Grid(init_opts=opts.InitOpts(width='100%', height='600px'))"
   ]
  },
  {
   "cell_type": "code",
   "execution_count": null,
   "metadata": {},
   "outputs": [],
   "source": [
    "grid_chart.add(\n",
    "    kline,\n",
    "    grid_opts=opts.GridOpts(pos_left=\"5%\", pos_right=\"5%\", height=\"50%\"),\n",
    ")\n",
    "\n",
    "grid_chart.add(\n",
    "    bar,\n",
    "    grid_opts=opts.GridOpts(\n",
    "        pos_left=\"5%\", pos_right=\"5%\", pos_top=\"68%\", height=\"16%\"\n",
    "    ),\n",
    ")"
   ]
  },
  {
   "cell_type": "code",
   "execution_count": null,
   "metadata": {},
   "outputs": [],
   "source": [
    "grid_chart.render_notebook()"
   ]
  }
 ],
 "metadata": {
  "kernelspec": {
   "display_name": "dl",
   "language": "python",
   "name": "python3"
  },
  "language_info": {
   "codemirror_mode": {
    "name": "ipython",
    "version": 3
   },
   "file_extension": ".py",
   "mimetype": "text/x-python",
   "name": "python",
   "nbconvert_exporter": "python",
   "pygments_lexer": "ipython3",
   "version": "3.10.10"
  },
  "orig_nbformat": 4
 },
 "nbformat": 4,
 "nbformat_minor": 2
}
