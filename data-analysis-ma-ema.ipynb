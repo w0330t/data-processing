{
 "cells": [
  {
   "cell_type": "code",
   "execution_count": null,
   "metadata": {},
   "outputs": [],
   "source": [
    "import pandas as pd\n",
    "import numpy as np\n",
    "import common\n",
    "\n",
    "from pyecharts.charts import Grid, Kline, Line, Bar\n",
    "from pyecharts import options as opts\n",
    "from pyecharts.globals import ThemeType\n",
    "\n",
    "import talib.abstract as ta"
   ]
  },
  {
   "attachments": {},
   "cell_type": "markdown",
   "metadata": {},
   "source": [
    "获取数据"
   ]
  },
  {
   "cell_type": "code",
   "execution_count": null,
   "metadata": {},
   "outputs": [],
   "source": [
    "file = '../freqtrade/user_data/data/binance/futures/BTC_USDT_USDT-6h-futures.json'"
   ]
  },
  {
   "cell_type": "code",
   "execution_count": null,
   "metadata": {},
   "outputs": [],
   "source": [
    "df = common.read_kline_data(file)"
   ]
  },
  {
   "attachments": {},
   "cell_type": "markdown",
   "metadata": {},
   "source": [
    "添加MA和EMA"
   ]
  },
  {
   "cell_type": "code",
   "execution_count": null,
   "metadata": {},
   "outputs": [],
   "source": [
    "df['ma20'] = ta.MA(df, timeperiod=20)\n",
    "df['ma60'] = ta.MA(df, timeperiod=60)\n",
    "df['ma120'] = ta.MA(df, timeperiod=120)\n",
    "\n",
    "df['ema20'] = ta.EMA(df, timeperiod=20)\n",
    "df['ema60'] = ta.EMA(df, timeperiod=60)\n",
    "df['ema120'] = ta.EMA(df, timeperiod=120)"
   ]
  },
  {
   "attachments": {},
   "cell_type": "markdown",
   "metadata": {},
   "source": [
    "计算密集程度"
   ]
  },
  {
   "cell_type": "code",
   "execution_count": null,
   "metadata": {},
   "outputs": [],
   "source": [
    "df['intensity_ma'] = (abs(df['ma20'] - df['ma60']) + abs(df['ma60'] - df['ma120']) + abs(df['ma120'] - df['ma20'])) /\\\n",
    "                    ((df['ma20'] + df['ma60'] + df['ma120']) / 3)"
   ]
  },
  {
   "cell_type": "code",
   "execution_count": null,
   "metadata": {},
   "outputs": [],
   "source": [
    "df = df.dropna()"
   ]
  },
  {
   "attachments": {},
   "cell_type": "markdown",
   "metadata": {},
   "source": [
    "### 构建图表"
   ]
  },
  {
   "attachments": {},
   "cell_type": "markdown",
   "metadata": {},
   "source": [
    "开始构建K线"
   ]
  },
  {
   "cell_type": "code",
   "execution_count": null,
   "metadata": {},
   "outputs": [],
   "source": [
    "kline = common.create_kline_chart(dataframe=df)"
   ]
  },
  {
   "attachments": {},
   "cell_type": "markdown",
   "metadata": {},
   "source": [
    "构建K线的指标MA和EMA"
   ]
  },
  {
   "cell_type": "code",
   "execution_count": null,
   "metadata": {},
   "outputs": [],
   "source": [
    "line = common.create_line_chart(df, ['ma20', 'ma60', 'ma120'])"
   ]
  },
  {
   "attachments": {},
   "cell_type": "markdown",
   "metadata": {},
   "source": [
    "成交量"
   ]
  },
  {
   "cell_type": "code",
   "execution_count": null,
   "metadata": {},
   "outputs": [],
   "source": [
    "bar = common.create_bar_chart(df, ['volume'])"
   ]
  },
  {
   "attachments": {},
   "cell_type": "markdown",
   "metadata": {},
   "source": [
    "### 合并"
   ]
  },
  {
   "cell_type": "code",
   "execution_count": null,
   "metadata": {},
   "outputs": [],
   "source": [
    "overlap_kline_line = kline.overlap(line)\n",
    "grid_chart = Grid(init_opts=opts.InitOpts(width='100%', height='600px'))\n",
    "grid_chart.add(\n",
    "    overlap_kline_line,\n",
    "    grid_opts=opts.GridOpts(pos_left=\"5%\", pos_right=\"5%\", height=\"60%\"),\n",
    ")\n",
    "\n",
    "grid_chart.add(\n",
    "    bar,\n",
    "    grid_opts=opts.GridOpts(\n",
    "        pos_left=\"5%\", pos_right=\"5%\", pos_top=\"78%\", height=\"16%\"\n",
    "    ),\n",
    ")"
   ]
  },
  {
   "cell_type": "code",
   "execution_count": null,
   "metadata": {},
   "outputs": [],
   "source": [
    "grid_chart.render_notebook()"
   ]
  }
 ],
 "metadata": {
  "kernelspec": {
   "display_name": "Python 3 (ipykernel)",
   "language": "python",
   "name": "python3"
  },
  "language_info": {
   "codemirror_mode": {
    "name": "ipython",
    "version": 3
   },
   "file_extension": ".py",
   "mimetype": "text/x-python",
   "name": "python",
   "nbconvert_exporter": "python",
   "pygments_lexer": "ipython3",
   "version": "3.10.11"
  }
 },
 "nbformat": 4,
 "nbformat_minor": 2
}
